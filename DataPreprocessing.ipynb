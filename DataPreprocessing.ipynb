{
 "cells": [
  {
   "cell_type": "code",
   "execution_count": 1,
   "metadata": {},
   "outputs": [],
   "source": [
    "import os\n",
    "import pandas as pd\n",
    "import numpy as np\n",
    "import seaborn as sns\n",
    "import matplotlib.pyplot as plt\n",
    "from scipy import stats\n",
    "from sklearn.cluster import KMeans\n",
    "from sklearn.neighbors import KNeighborsRegressor\n",
    "from sklearn.preprocessing import StandardScaler\n",
    "from pandas_profiling import ProfileReport"
   ]
  },
  {
   "cell_type": "code",
   "execution_count": 2,
   "metadata": {},
   "outputs": [
    {
     "name": "stderr",
     "output_type": "stream",
     "text": [
      "C:\\Users\\Utilizador\\anaconda3\\envs\\DMProject\\lib\\site-packages\\IPython\\core\\interactiveshell.py:3146: DtypeWarning: Columns (9,412) have mixed types.Specify dtype option on import or set low_memory=False.\n",
      "  has_raised = await self.run_ast_nodes(code_ast.body, cell_name,\n"
     ]
    }
   ],
   "source": [
    "data=pd.read_csv('data/donors.csv')"
   ]
  },
  {
   "cell_type": "code",
   "execution_count": 3,
   "metadata": {},
   "outputs": [],
   "source": [
    "data_backup=data.copy()"
   ]
  },
  {
   "cell_type": "code",
   "execution_count": 4,
   "metadata": {},
   "outputs": [],
   "source": [
    "data=data_backup.copy()"
   ]
  },
  {
   "cell_type": "code",
   "execution_count": 5,
   "metadata": {},
   "outputs": [],
   "source": [
    "sample=data.sample(frac=0.01)"
   ]
  },
  {
   "cell_type": "code",
   "execution_count": 6,
   "metadata": {
    "scrolled": true
   },
   "outputs": [
    {
     "data": {
      "application/vnd.jupyter.widget-view+json": {
       "model_id": "81dd29ec2ff4413e891f84007fabc620",
       "version_major": 2,
       "version_minor": 0
      },
      "text/plain": [
       "HBox(children=(HTML(value='Summarize dataset'), FloatProgress(value=0.0, max=486.0), HTML(value='')))"
      ]
     },
     "metadata": {},
     "output_type": "display_data"
    },
    {
     "name": "stdout",
     "output_type": "stream",
     "text": [
      "\n"
     ]
    },
    {
     "data": {
      "application/vnd.jupyter.widget-view+json": {
       "model_id": "d18c6986c9544181b7ffd47b5c989cdb",
       "version_major": 2,
       "version_minor": 0
      },
      "text/plain": [
       "HBox(children=(HTML(value='Generate report structure'), FloatProgress(value=0.0, max=1.0), HTML(value='')))"
      ]
     },
     "metadata": {},
     "output_type": "display_data"
    },
    {
     "name": "stdout",
     "output_type": "stream",
     "text": [
      "\n"
     ]
    },
    {
     "data": {
      "application/vnd.jupyter.widget-view+json": {
       "model_id": "a57373b6d8154bc5beaf6b64a5d932d2",
       "version_major": 2,
       "version_minor": 0
      },
      "text/plain": [
       "HBox(children=(HTML(value='Render HTML'), FloatProgress(value=0.0, max=1.0), HTML(value='')))"
      ]
     },
     "metadata": {},
     "output_type": "display_data"
    },
    {
     "name": "stdout",
     "output_type": "stream",
     "text": [
      "\n"
     ]
    },
    {
     "data": {
      "application/vnd.jupyter.widget-view+json": {
       "model_id": "9dce6e3fa6bc4793b35272a2f217e588",
       "version_major": 2,
       "version_minor": 0
      },
      "text/plain": [
       "HBox(children=(HTML(value='Export report to file'), FloatProgress(value=0.0, max=1.0), HTML(value='')))"
      ]
     },
     "metadata": {},
     "output_type": "display_data"
    },
    {
     "name": "stdout",
     "output_type": "stream",
     "text": [
      "\n"
     ]
    }
   ],
   "source": [
    "profile = ProfileReport(\n",
    "    data, \n",
    "    title='Tugas Customer Data',\n",
    "    correlations={\n",
    "        \"pearson\": {\"calculate\": True},\n",
    "        \"spearman\": {\"calculate\": False},\n",
    "        \"kendall\": {\"calculate\": False},\n",
    "        \"phi_k\": {\"calculate\": False},\n",
    "        \"cramers\": {\"calculate\": False},\n",
    "    },minimal=True\n",
    ")\n",
    "\n",
    "\n",
    "\n",
    "profile.to_file(os.path.join('.', \"donor_data.html\"))"
   ]
  },
  {
   "cell_type": "code",
   "execution_count": 11,
   "metadata": {
    "lines_to_next_cell": 0
   },
   "outputs": [
    {
     "data": {
      "text/html": [
       "<div>\n",
       "<style scoped>\n",
       "    .dataframe tbody tr th:only-of-type {\n",
       "        vertical-align: middle;\n",
       "    }\n",
       "\n",
       "    .dataframe tbody tr th {\n",
       "        vertical-align: top;\n",
       "    }\n",
       "\n",
       "    .dataframe thead th {\n",
       "        text-align: right;\n",
       "    }\n",
       "</style>\n",
       "<table border=\"1\" class=\"dataframe\">\n",
       "  <thead>\n",
       "    <tr style=\"text-align: right;\">\n",
       "      <th></th>\n",
       "      <th>Unnamed: 0</th>\n",
       "      <th>ODATEDW</th>\n",
       "      <th>STATE</th>\n",
       "      <th>ZIP</th>\n",
       "      <th>DOB</th>\n",
       "      <th>RECINHSE</th>\n",
       "      <th>RECP3</th>\n",
       "      <th>MDMAUD</th>\n",
       "      <th>DOMAIN</th>\n",
       "      <th>HOMEOWNR</th>\n",
       "      <th>...</th>\n",
       "      <th>NEXTDATE</th>\n",
       "      <th>TIMELAG</th>\n",
       "      <th>AVGGIFT</th>\n",
       "      <th>RFA_2R</th>\n",
       "      <th>RFA_2F</th>\n",
       "      <th>RFA_2A</th>\n",
       "      <th>MDMAUD_R</th>\n",
       "      <th>MDMAUD_F</th>\n",
       "      <th>MDMAUD_A</th>\n",
       "      <th>GEOCODE2</th>\n",
       "    </tr>\n",
       "  </thead>\n",
       "  <tbody>\n",
       "    <tr>\n",
       "      <th>0</th>\n",
       "      <td>0</td>\n",
       "      <td>2009-01-01</td>\n",
       "      <td>IL</td>\n",
       "      <td>61081</td>\n",
       "      <td>1957-12-01</td>\n",
       "      <td></td>\n",
       "      <td></td>\n",
       "      <td>XXXX</td>\n",
       "      <td>T2</td>\n",
       "      <td></td>\n",
       "      <td>...</td>\n",
       "      <td>2010-03-01</td>\n",
       "      <td>4.0</td>\n",
       "      <td>7.741935</td>\n",
       "      <td>L</td>\n",
       "      <td>4</td>\n",
       "      <td>E</td>\n",
       "      <td>X</td>\n",
       "      <td>X</td>\n",
       "      <td>X</td>\n",
       "      <td>C</td>\n",
       "    </tr>\n",
       "    <tr>\n",
       "      <th>1</th>\n",
       "      <td>1</td>\n",
       "      <td>2014-01-01</td>\n",
       "      <td>CA</td>\n",
       "      <td>91326</td>\n",
       "      <td>1972-02-01</td>\n",
       "      <td></td>\n",
       "      <td></td>\n",
       "      <td>XXXX</td>\n",
       "      <td>S1</td>\n",
       "      <td>H</td>\n",
       "      <td>...</td>\n",
       "      <td>2015-04-01</td>\n",
       "      <td>18.0</td>\n",
       "      <td>15.666667</td>\n",
       "      <td>L</td>\n",
       "      <td>2</td>\n",
       "      <td>G</td>\n",
       "      <td>X</td>\n",
       "      <td>X</td>\n",
       "      <td>X</td>\n",
       "      <td>A</td>\n",
       "    </tr>\n",
       "    <tr>\n",
       "      <th>2</th>\n",
       "      <td>2</td>\n",
       "      <td>2010-01-01</td>\n",
       "      <td>NC</td>\n",
       "      <td>27017</td>\n",
       "      <td>NaN</td>\n",
       "      <td></td>\n",
       "      <td></td>\n",
       "      <td>XXXX</td>\n",
       "      <td>R2</td>\n",
       "      <td>U</td>\n",
       "      <td>...</td>\n",
       "      <td>2011-01-01</td>\n",
       "      <td>12.0</td>\n",
       "      <td>7.481481</td>\n",
       "      <td>L</td>\n",
       "      <td>4</td>\n",
       "      <td>E</td>\n",
       "      <td>X</td>\n",
       "      <td>X</td>\n",
       "      <td>X</td>\n",
       "      <td>C</td>\n",
       "    </tr>\n",
       "    <tr>\n",
       "      <th>3</th>\n",
       "      <td>3</td>\n",
       "      <td>2007-01-01</td>\n",
       "      <td>CA</td>\n",
       "      <td>95953</td>\n",
       "      <td>1948-01-01</td>\n",
       "      <td></td>\n",
       "      <td></td>\n",
       "      <td>XXXX</td>\n",
       "      <td>R2</td>\n",
       "      <td>U</td>\n",
       "      <td>...</td>\n",
       "      <td>2007-11-01</td>\n",
       "      <td>9.0</td>\n",
       "      <td>6.812500</td>\n",
       "      <td>L</td>\n",
       "      <td>4</td>\n",
       "      <td>E</td>\n",
       "      <td>X</td>\n",
       "      <td>X</td>\n",
       "      <td>X</td>\n",
       "      <td>C</td>\n",
       "    </tr>\n",
       "    <tr>\n",
       "      <th>4</th>\n",
       "      <td>4</td>\n",
       "      <td>2006-01-01</td>\n",
       "      <td>FL</td>\n",
       "      <td>33176</td>\n",
       "      <td>1940-01-01</td>\n",
       "      <td>X</td>\n",
       "      <td>X</td>\n",
       "      <td>XXXX</td>\n",
       "      <td>S2</td>\n",
       "      <td>H</td>\n",
       "      <td>...</td>\n",
       "      <td>2000-05-01</td>\n",
       "      <td>14.0</td>\n",
       "      <td>6.864865</td>\n",
       "      <td>L</td>\n",
       "      <td>2</td>\n",
       "      <td>F</td>\n",
       "      <td>X</td>\n",
       "      <td>X</td>\n",
       "      <td>X</td>\n",
       "      <td>A</td>\n",
       "    </tr>\n",
       "    <tr>\n",
       "      <th>...</th>\n",
       "      <td>...</td>\n",
       "      <td>...</td>\n",
       "      <td>...</td>\n",
       "      <td>...</td>\n",
       "      <td>...</td>\n",
       "      <td>...</td>\n",
       "      <td>...</td>\n",
       "      <td>...</td>\n",
       "      <td>...</td>\n",
       "      <td>...</td>\n",
       "      <td>...</td>\n",
       "      <td>...</td>\n",
       "      <td>...</td>\n",
       "      <td>...</td>\n",
       "      <td>...</td>\n",
       "      <td>...</td>\n",
       "      <td>...</td>\n",
       "      <td>...</td>\n",
       "      <td>...</td>\n",
       "      <td>...</td>\n",
       "      <td>...</td>\n",
       "    </tr>\n",
       "    <tr>\n",
       "      <th>95407</th>\n",
       "      <td>95407</td>\n",
       "      <td>2016-01-01</td>\n",
       "      <td>AK</td>\n",
       "      <td>99504</td>\n",
       "      <td>NaN</td>\n",
       "      <td></td>\n",
       "      <td></td>\n",
       "      <td>XXXX</td>\n",
       "      <td>C2</td>\n",
       "      <td></td>\n",
       "      <td>...</td>\n",
       "      <td>NaN</td>\n",
       "      <td>NaN</td>\n",
       "      <td>25.000000</td>\n",
       "      <td>L</td>\n",
       "      <td>1</td>\n",
       "      <td>G</td>\n",
       "      <td>X</td>\n",
       "      <td>X</td>\n",
       "      <td>X</td>\n",
       "      <td>C</td>\n",
       "    </tr>\n",
       "    <tr>\n",
       "      <th>95408</th>\n",
       "      <td>95408</td>\n",
       "      <td>2016-01-01</td>\n",
       "      <td>TX</td>\n",
       "      <td>77379</td>\n",
       "      <td>1970-01-01</td>\n",
       "      <td></td>\n",
       "      <td></td>\n",
       "      <td>XXXX</td>\n",
       "      <td>C1</td>\n",
       "      <td>H</td>\n",
       "      <td>...</td>\n",
       "      <td>NaN</td>\n",
       "      <td>NaN</td>\n",
       "      <td>20.000000</td>\n",
       "      <td>L</td>\n",
       "      <td>1</td>\n",
       "      <td>F</td>\n",
       "      <td>X</td>\n",
       "      <td>X</td>\n",
       "      <td>X</td>\n",
       "      <td>A</td>\n",
       "    </tr>\n",
       "    <tr>\n",
       "      <th>95409</th>\n",
       "      <td>95409</td>\n",
       "      <td>2015-01-01</td>\n",
       "      <td>MI</td>\n",
       "      <td>48910</td>\n",
       "      <td>1958-01-01</td>\n",
       "      <td></td>\n",
       "      <td>X</td>\n",
       "      <td>XXXX</td>\n",
       "      <td>C3</td>\n",
       "      <td></td>\n",
       "      <td>...</td>\n",
       "      <td>2015-01-01</td>\n",
       "      <td>3.0</td>\n",
       "      <td>8.285714</td>\n",
       "      <td>L</td>\n",
       "      <td>3</td>\n",
       "      <td>E</td>\n",
       "      <td>X</td>\n",
       "      <td>X</td>\n",
       "      <td>X</td>\n",
       "      <td>B</td>\n",
       "    </tr>\n",
       "    <tr>\n",
       "      <th>95410</th>\n",
       "      <td>95410</td>\n",
       "      <td>2006-01-01</td>\n",
       "      <td>CA</td>\n",
       "      <td>91320</td>\n",
       "      <td>1960-05-01</td>\n",
       "      <td>X</td>\n",
       "      <td></td>\n",
       "      <td>XXXX</td>\n",
       "      <td>C1</td>\n",
       "      <td>H</td>\n",
       "      <td>...</td>\n",
       "      <td>2007-04-01</td>\n",
       "      <td>4.0</td>\n",
       "      <td>12.146341</td>\n",
       "      <td>L</td>\n",
       "      <td>4</td>\n",
       "      <td>F</td>\n",
       "      <td>X</td>\n",
       "      <td>X</td>\n",
       "      <td>X</td>\n",
       "      <td>A</td>\n",
       "    </tr>\n",
       "    <tr>\n",
       "      <th>95411</th>\n",
       "      <td>95411</td>\n",
       "      <td>2008-01-01</td>\n",
       "      <td>NC</td>\n",
       "      <td>28409</td>\n",
       "      <td>1938-01-01</td>\n",
       "      <td>X</td>\n",
       "      <td></td>\n",
       "      <td>C1CM</td>\n",
       "      <td>C1</td>\n",
       "      <td>U</td>\n",
       "      <td>...</td>\n",
       "      <td>2008-09-01</td>\n",
       "      <td>6.0</td>\n",
       "      <td>96.794872</td>\n",
       "      <td>L</td>\n",
       "      <td>1</td>\n",
       "      <td>G</td>\n",
       "      <td>C</td>\n",
       "      <td>1</td>\n",
       "      <td>C</td>\n",
       "      <td>C</td>\n",
       "    </tr>\n",
       "  </tbody>\n",
       "</table>\n",
       "<p>95412 rows × 462 columns</p>\n",
       "</div>"
      ],
      "text/plain": [
       "       Unnamed: 0     ODATEDW STATE    ZIP         DOB RECINHSE RECP3 MDMAUD  \\\n",
       "0               0  2009-01-01    IL  61081  1957-12-01                  XXXX   \n",
       "1               1  2014-01-01    CA  91326  1972-02-01                  XXXX   \n",
       "2               2  2010-01-01    NC  27017         NaN                  XXXX   \n",
       "3               3  2007-01-01    CA  95953  1948-01-01                  XXXX   \n",
       "4               4  2006-01-01    FL  33176  1940-01-01        X     X   XXXX   \n",
       "...           ...         ...   ...    ...         ...      ...   ...    ...   \n",
       "95407       95407  2016-01-01    AK  99504         NaN                  XXXX   \n",
       "95408       95408  2016-01-01    TX  77379  1970-01-01                  XXXX   \n",
       "95409       95409  2015-01-01    MI  48910  1958-01-01              X   XXXX   \n",
       "95410       95410  2006-01-01    CA  91320  1960-05-01        X         XXXX   \n",
       "95411       95411  2008-01-01    NC  28409  1938-01-01        X         C1CM   \n",
       "\n",
       "      DOMAIN HOMEOWNR  ...    NEXTDATE  TIMELAG    AVGGIFT  RFA_2R  RFA_2F  \\\n",
       "0         T2           ...  2010-03-01      4.0   7.741935       L       4   \n",
       "1         S1        H  ...  2015-04-01     18.0  15.666667       L       2   \n",
       "2         R2        U  ...  2011-01-01     12.0   7.481481       L       4   \n",
       "3         R2        U  ...  2007-11-01      9.0   6.812500       L       4   \n",
       "4         S2        H  ...  2000-05-01     14.0   6.864865       L       2   \n",
       "...      ...      ...  ...         ...      ...        ...     ...     ...   \n",
       "95407     C2           ...         NaN      NaN  25.000000       L       1   \n",
       "95408     C1        H  ...         NaN      NaN  20.000000       L       1   \n",
       "95409     C3           ...  2015-01-01      3.0   8.285714       L       3   \n",
       "95410     C1        H  ...  2007-04-01      4.0  12.146341       L       4   \n",
       "95411     C1        U  ...  2008-09-01      6.0  96.794872       L       1   \n",
       "\n",
       "       RFA_2A  MDMAUD_R  MDMAUD_F  MDMAUD_A  GEOCODE2  \n",
       "0           E         X         X         X         C  \n",
       "1           G         X         X         X         A  \n",
       "2           E         X         X         X         C  \n",
       "3           E         X         X         X         C  \n",
       "4           F         X         X         X         A  \n",
       "...       ...       ...       ...       ...       ...  \n",
       "95407       G         X         X         X         C  \n",
       "95408       F         X         X         X         A  \n",
       "95409       E         X         X         X         B  \n",
       "95410       F         X         X         X         A  \n",
       "95411       G         C         1         C         C  \n",
       "\n",
       "[95412 rows x 462 columns]"
      ]
     },
     "execution_count": 11,
     "metadata": {},
     "output_type": "execute_result"
    }
   ],
   "source": [
    "features_to_delete = [\n",
    "    'OSOURCE', # Does not contain information pertaining to the Donor's characteristics\n",
    "    'TCODE', # Title does not contain information\n",
    "    'MAILCODE', # Does not help characterize a donor\n",
    "    'PVASTATE', # Does not add information because we can calculate it using STATE, and most values are empty\n",
    "    'NOEXCH', # Could not analyze, and does not contain pertinent information\n",
    "    'RECPGVG', # Not pertinent\n",
    "    'RECSWEEP', # Not pertinent\n",
    "    'CHILD03', 'CHILD07', 'CHILD12', 'CHILD18', # Values are mostly empty, and don't give much info\n",
    "    'GEOCODE', # Not pertinent\n",
    "    'HPHONE_D', \n",
    "    'CONTROLN'\n",
    "    \n",
    "]\n",
    "data.drop(features_to_delete, axis=1)"
   ]
  },
  {
   "cell_type": "code",
   "execution_count": 1,
   "metadata": {
    "lines_to_next_cell": 0
   },
   "outputs": [
    {
     "name": "stdout",
     "output_type": "stream",
     "text": [
      "Jupytext2\n"
     ]
    }
   ],
   "source": [
    "print('Jupytext2')"
   ]
  }
 ],
 "metadata": {
  "jupytext": {
   "formats": "ipynb,md"
  },
  "kernelspec": {
   "display_name": "Python 3",
   "language": "python",
   "name": "python3"
  },
  "language_info": {
   "codemirror_mode": {
    "name": "ipython",
    "version": 3
   },
   "file_extension": ".py",
   "mimetype": "text/x-python",
   "name": "python",
   "nbconvert_exporter": "python",
   "pygments_lexer": "ipython3",
   "version": "3.8.5"
  }
 },
 "nbformat": 4,
 "nbformat_minor": 4
}
